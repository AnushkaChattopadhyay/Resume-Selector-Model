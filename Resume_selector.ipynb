{
  "nbformat": 4,
  "nbformat_minor": 0,
  "metadata": {
    "colab": {
      "provenance": [],
      "authorship_tag": "ABX9TyO9Pnw9lKI+h8l/K04pDyF/",
      "include_colab_link": true
    },
    "kernelspec": {
      "name": "python3",
      "display_name": "Python 3"
    },
    "language_info": {
      "name": "python"
    }
  },
  "cells": [
    {
      "cell_type": "markdown",
      "metadata": {
        "id": "view-in-github",
        "colab_type": "text"
      },
      "source": [
        "<a href=\"https://colab.research.google.com/github/AnushkaChattopadhyay/Resume-Selector-Model/blob/main/Resume_selector.ipynb\" target=\"_parent\"><img src=\"https://colab.research.google.com/assets/colab-badge.svg\" alt=\"Open In Colab\"/></a>"
      ]
    },
    {
      "cell_type": "markdown",
      "source": [
        "Model to check how much similar is a resume to a job description"
      ],
      "metadata": {
        "id": "CYUotNdmEGZq"
      }
    },
    {
      "cell_type": "code",
      "source": [
        "pip install docx2txt"
      ],
      "metadata": {
        "colab": {
          "base_uri": "https://localhost:8080/"
        },
        "id": "kyfKYThrESNE",
        "outputId": "289ecad5-76cc-437c-cfce-7ee8e3109939"
      },
      "execution_count": 1,
      "outputs": [
        {
          "output_type": "stream",
          "name": "stdout",
          "text": [
            "Collecting docx2txt\n",
            "  Downloading docx2txt-0.8.tar.gz (2.8 kB)\n",
            "  Preparing metadata (setup.py) ... \u001b[?25l\u001b[?25hdone\n",
            "Building wheels for collected packages: docx2txt\n",
            "  Building wheel for docx2txt (setup.py) ... \u001b[?25l\u001b[?25hdone\n",
            "  Created wheel for docx2txt: filename=docx2txt-0.8-py3-none-any.whl size=3960 sha256=1d3b52f5306ee0ee0779e18071cd037db0ebfaab08813e9099da4541f89c654d\n",
            "  Stored in directory: /root/.cache/pip/wheels/22/58/cf/093d0a6c3ecfdfc5f6ddd5524043b88e59a9a199cb02352966\n",
            "Successfully built docx2txt\n",
            "Installing collected packages: docx2txt\n",
            "Successfully installed docx2txt-0.8\n"
          ]
        }
      ]
    },
    {
      "cell_type": "code",
      "source": [
        "import docx2txt"
      ],
      "metadata": {
        "id": "byTe6CRrEUsH"
      },
      "execution_count": 2,
      "outputs": []
    },
    {
      "cell_type": "code",
      "source": [
        "job_requirements = docx2txt.process(\"job_req.docx\")\n",
        "print(job_requirements)"
      ],
      "metadata": {
        "colab": {
          "base_uri": "https://localhost:8080/"
        },
        "id": "t5x3oHfUEZpD",
        "outputId": "b8ee3e93-2c7e-4dab-baed-4573e41dc04f"
      },
      "execution_count": 4,
      "outputs": [
        {
          "output_type": "stream",
          "name": "stdout",
          "text": [
            "Customer Care ExecWe are seeking a full-time Senior Data Analyst with 5 years or more experience of doing various marketing campaigns using SAS model, strong analytical skills and keen attention to detail to develop and deliver marketing programs for retail, finance, insurance and other businesses.\n",
            "\n",
            "\n",
            "\n",
            "\n",
            "\n",
            "\n",
            "\n",
            "Must have grounding in traditional data mining/database marketing and experience in the evolving digital data marketing landscape. Bridgetree is a virtual company and the position will require to work from Kolkata/Bangalore-India office. Must be a legal Indian resident.\n",
            "\n",
            "\n",
            "\n",
            "\n",
            "\n",
            "\n",
            "\n",
            "Requirements:\n",
            "\n",
            "\n",
            "\n",
            "• Creates Marketing campaigns e.g. Mailing, e-mailing, Call lists etc.\n",
            "\n",
            "\n",
            "\n",
            "• Analyzes Data and builds various reports efficiently using different business intelligence and reporting tools\n",
            "\n",
            "\n",
            "\n",
            "• Responds to various data requests like building waterfall and customer profile reports, Mail/Email Campaign Response Analysis\n",
            "\n",
            "\n",
            "\n",
            "• Performs additional checks and implement diagnostic reporting to ensure that the final production is 100% accurate and quality assured\n",
            "\n",
            "\n",
            "\n",
            "• Recommends and implements better ways to make the process lean and efficient – set up and maintain automated data processes\n",
            "\n",
            "\n",
            "\n",
            "\n",
            "\n",
            "\n",
            "\n",
            "Qualifications:\n",
            "\n",
            "\n",
            "\n",
            "• 5+ years of working experience in a Statistical Analyst role using SAS, SQL. Knowledge of SSIS, R or Python will be added advantage.\n",
            "\n",
            "\n",
            "\n",
            "• Must have a master’s degree in Mathematics, Statistics or Economics with good educational background.\n",
            "\n",
            "\n",
            "\n",
            "• Personally, strives to ensure data quality, consistency, and accuracy in all work.\n",
            "\n",
            "\n",
            "\n",
            "• Desires to participate in a learning environment where sharing and collaboration with others is the culture.\n",
            "\n",
            "\n",
            "\n",
            "• Must have great communication and problem-solving skills\n",
            "\n",
            "\n",
            "\n",
            "\n",
            "\n",
            "\n",
            "\n",
            "To apply: Please email your resume to jobs@bridgetree.comutive\n"
          ]
        }
      ]
    },
    {
      "cell_type": "code",
      "source": [
        "resume = docx2txt.process(\"resume_work.docx\")\n",
        "print(resume)"
      ],
      "metadata": {
        "colab": {
          "base_uri": "https://localhost:8080/"
        },
        "id": "Si6yIFidIIZV",
        "outputId": "7230c13d-cf8d-4dfe-db2e-995930a24204"
      },
      "execution_count": 5,
      "outputs": [
        {
          "output_type": "stream",
          "name": "stdout",
          "text": [
            "Highlights\n",
            "\n",
            "Results-oriented\n",
            "\n",
            "Revenue generation\t\n",
            "\n",
            "Business development\n",
            "\n",
            "Effective marketing\n",
            "\n",
            "Organisational capacity\n",
            "\n",
            "Operability and commitment\n",
            "\n",
            "Ability to motivate staff and maintain good relations\n",
            "\n",
            "Resistance to stress\n",
            "\n",
            "Good manners\n",
            "\n",
            "\n",
            "\n",
            "Education\n",
            "\n",
            "Bachelor of Science: Automotive Technology - 2014\n",
            "\n",
            "Technical Institute, NY\n",
            "\n",
            "\n",
            "\n",
            "Hobbies\n",
            "\n",
            "Playing chess - great way to unwind, destress, and keep the mind sharp.\n",
            "\n",
            "\n",
            "\n",
            "\n",
            "\n",
            "Highlights\n",
            "\n",
            "Results-oriented\n",
            "\n",
            "Revenue generation\t\n",
            "\n",
            "Business development\n",
            "\n",
            "Effective marketing\n",
            "\n",
            "Organisational capacity\n",
            "\n",
            "Operability and commitment\n",
            "\n",
            "Ability to motivate staff and maintain good relations\n",
            "\n",
            "Resistance to stress\n",
            "\n",
            "Good manners\n",
            "\n",
            "\n",
            "\n",
            "Education\n",
            "\n",
            "Bachelor of Science: Automotive Technology - 2014\n",
            "\n",
            "Technical Institute, NY\n",
            "\n",
            "\n",
            "\n",
            "Hobbies\n",
            "\n",
            "Playing chess - great way to unwind, destress, and keep the mind sharp.\n",
            "\n",
            "\n",
            "\n",
            "\n",
            "\n",
            "Store Manager equipped with extensive experience in automotive sales management. Employs excellent leadership skills and multi-tasking strengths. Demonstrated ability to improve store operations, increase top line sales, and reduce costs.\n",
            "\n",
            "\n",
            "\n",
            "\n",
            "\n",
            "\n",
            "\n",
            "Store Manager equipped with extensive experience in automotive sales management. Employs excellent leadership skills and multi-tasking strengths. Demonstrated ability to improve store operations, increase top line sales, and reduce costs.\n",
            "\n",
            "\n",
            "\n",
            "\n",
            "\n",
            "\n",
            "\n",
            "Experience\n",
            "\n",
            "09/2015 to 05/2019\n",
            "\n",
            "Store Manager\n",
            "\n",
            "LUXURY CAR CENTER, New York\n",
            "\n",
            "Motivate and coach employees to meet service, sales, and repair goals.\n",
            "\n",
            "Create and modify employee schedules with service levels in mind.\n",
            "\n",
            "Recruit and hire top mechanics, service advisors, and sales people.\n",
            "\n",
            "Maintain detailed logs and reports of services performed, profit, and budget information.\n",
            "\n",
            "Help out in sales and repair areas as needed and maintain comprehensive current knowledge of operations.\n",
            "\n",
            "\n",
            "\n",
            "09/2014 to 09/2015\n",
            "\n",
            "Store Manager \n",
            "\n",
            "JAPAN CAR CENTER, New York\n",
            "\n",
            "Answered customer questions and resolved service issues in a timely manner.\n",
            "\n",
            "Diagnosed customer issues by asking probing questions and write up repair orders.\n",
            "\n",
            "Ordered supplies and kept inventory at optimal levels.\n",
            "\n",
            "Coordinated equipment repairs and maintenance.\n",
            "\n",
            "\n",
            "\n",
            "Experience\n",
            "\n",
            "09/2015 to 05/2019\n",
            "\n",
            "Store Manager\n",
            "\n",
            "LUXURY CAR CENTER, New York\n",
            "\n",
            "Motivate and coach employees to meet service, sales, and repair goals.\n",
            "\n",
            "Create and modify employee schedules with service levels in mind.\n",
            "\n",
            "Recruit and hire top mechanics, service advisors, and sales people.\n",
            "\n",
            "Maintain detailed logs and reports of services performed, profit, and budget information.\n",
            "\n",
            "Help out in sales and repair areas as needed and maintain comprehensive current knowledge of operations.\n",
            "\n",
            "\n",
            "\n",
            "09/2014 to 09/2015\n",
            "\n",
            "Store Manager \n",
            "\n",
            "JAPAN CAR CENTER, New York\n",
            "\n",
            "Answered customer questions and resolved service issues in a timely manner.\n",
            "\n",
            "Diagnosed customer issues by asking probing questions and write up repair orders.\n",
            "\n",
            "Ordered supplies and kept inventory at optimal levels.\n",
            "\n",
            "Coordinated equipment repairs and maintenance.\n",
            "\n",
            "\n",
            "\n",
            "\n",
            "\n",
            "\n",
            "\n",
            "Anthony Eliot\n",
            "\n",
            " +1 (970) 333-3833\n",
            "\n",
            "anthony.eliot@gmail.com\n",
            "\n",
            "Anthony Eliot\n",
            "\n",
            " +1 (970) 333-3833\n",
            "\n",
            "anthony.eliot@gmail.com\n"
          ]
        }
      ]
    },
    {
      "cell_type": "code",
      "source": [
        "text = [resume, job_requirements]"
      ],
      "metadata": {
        "id": "tcW4rfbFInnY"
      },
      "execution_count": 6,
      "outputs": []
    },
    {
      "cell_type": "code",
      "source": [
        "from sklearn.feature_extraction.text import CountVectorizer\n",
        "cv=CountVectorizer()\n",
        "count_matrix = cv.fit_transform(text)"
      ],
      "metadata": {
        "id": "fKnpXvllIrND"
      },
      "execution_count": 7,
      "outputs": []
    },
    {
      "cell_type": "code",
      "source": [
        "from sklearn.metrics.pairwise import cosine_similarity\n",
        "print(\"\\nSimilarity Scores:\")\n",
        "print(cosine_similarity(count_matrix))"
      ],
      "metadata": {
        "colab": {
          "base_uri": "https://localhost:8080/"
        },
        "id": "nsHEzQHlIt22",
        "outputId": "9a574da8-26da-4b78-d520-2f5e99910646"
      },
      "execution_count": 8,
      "outputs": [
        {
          "output_type": "stream",
          "name": "stdout",
          "text": [
            "\n",
            "Similarity Scores:\n",
            "[[1.         0.59054458]\n",
            " [0.59054458 1.        ]]\n"
          ]
        }
      ]
    },
    {
      "cell_type": "code",
      "source": [
        "matchpercent = cosine_similarity(count_matrix)[0][1]*100\n",
        "matchpercent = round(matchpercent, 2)\n",
        "print(\"This resume is about \"+ str(matchpercent)+ \"% similar to the job requirements\")"
      ],
      "metadata": {
        "colab": {
          "base_uri": "https://localhost:8080/"
        },
        "id": "_P7Wb0eZIz44",
        "outputId": "bbf2315f-6d5e-473a-88d7-dc9c7eff38e5"
      },
      "execution_count": 9,
      "outputs": [
        {
          "output_type": "stream",
          "name": "stdout",
          "text": [
            "This resume is about 59.05% similar to the job requirements\n"
          ]
        }
      ]
    }
  ]
}